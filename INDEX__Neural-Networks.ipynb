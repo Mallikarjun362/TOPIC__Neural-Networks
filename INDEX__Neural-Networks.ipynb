{
 "cells": [
  {
   "cell_type": "markdown",
   "id": "b417e1bf",
   "metadata": {},
   "source": [
    "## Table of Contents\n",
    "<ol style=\"font-size:25px;line-height:30px\">\n",
    "    <li><a href=\"#Resource-Index\">Resource-Index</a></li>\n",
    "    <li><a href=\"#Youtube-📹\">Youtube-📹</a></li>\n",
    "    <li><a href=\"#Search-Keywords\">Search-Keywords</a></li>\n",
    "    <li><a href=\"#Websites-Blogs\">Websites-Blogs</a></li>\n",
    "    <li><a href=\"#Coursera\">Coursera</a></li>\n",
    "</ol>"
   ]
  },
  {
   "cell_type": "markdown",
   "id": "8be9bc56",
   "metadata": {},
   "source": [
    "<h1>Resource Index</h1>"
   ]
  },
  {
   "cell_type": "markdown",
   "id": "e2a5c53d",
   "metadata": {},
   "source": [
    "<h2 style=\"color:red;font-size:40px\">Youtube 📹</h2>\n",
    "<ol style=\"font-size:25px;line-height:45px;color:#AAA;\">\n",
    "    <li><a href=\"https://www.youtube.com/playlist?list=PLblh5JKOoLUIxGDQs4LFFD--41Vzf-ME1\">Playlist_\"@StatQuest\"</a> - Neural Networks / Deep Learning</li>\n",
    "    <li><a href=\"https://www.youtube.com/playlist?list=PLZHQObOWTQDNU6R1_67000Dx_ZCJB-3pi\">Playlist_\"@3Blue1Brown\"</a> - Neural Networks</li>\n",
    "    <li><a href=\"https://www.youtube.com/playlist?list=PLWKjhJtqVAblStefaz_YOVpDWqcRScc2s\">Playlist_\"@freecodecamp\"</a> - Machine Learning + Deep Learning</li>\n",
    "    <li><a href=\"https://www.youtube.com/playlist?list=PLoROMvodv4rMiGQp3WXShtMGgzqpfVfbU\">Playlist_\"@Stanford Onlone\"</a> - Stanford CS229: Machine Learning Full Course taught by Andrew Ng | Autumn 2018\n",
    "</li>\n",
    "    <li><a href=\"https://www.youtube.com/playlist?list=PLtBw6njQRU-rwp5__7C0oIVt26ZgjG9NI\">Playlist_\"@MIT-OCW\"</a> - MIT 6.S191: Introduction to Deep Learning</li>\n",
    "    <li><a href=\"https://www.youtube.com/playlist?list=PLUl4u3cNGP61I4aI5T6OaFfRK2gihjiMm\">Playlist_\"@MIT-OCW\"</a> - MIT 9.40 Introduction to Neural Computation, Spring 2018 </li>\n",
    "    <li><a href=\"https://www.youtube.com/playlist?list=PLUl4u3cNGP63gFHB6xb-kVBiQHYe_4hSi\">Playlist_\"@MIT-OCW\"</a> - MIT 6.034 Artificial Intelligence, Fall 2010 </li>\n",
    "    <li><a href=\"https://www.youtube.com/playlist?list=PLUl4u3cNGP63oMNUHXqIUcrkS2PivhN3k\">Playlist_\"@MIT-OCW\"</a> - MIT 18.065 Matrix Methods in Data Analysis, Signal Processing, and Machine Learning, Spring 2018 </li>\n",
    "    \n",
    "</ol>"
   ]
  },
  {
   "cell_type": "markdown",
   "id": "8c19a823",
   "metadata": {},
   "source": [
    "<h2 style=\"color:purple;font-size:40px\">Search Keywords</h2>\n",
    "<br>\n",
    "<div style=\"font-size:25px;color:#777;padding-left:50px\">\n",
    "    Neural Networks , Deep learning \n",
    "</div>"
   ]
  },
  {
   "cell_type": "markdown",
   "id": "4c78eec7",
   "metadata": {},
   "source": [
    "<ol>\n",
    "    <li><a href=\"https://www.tableau.com/learn/articles/blogs-about-machine-learning-artificial-intelligence\">tableau-blog</a></li>\n",
    "    \n",
    "</ol>"
   ]
  },
  {
   "cell_type": "markdown",
   "id": "1fe16933",
   "metadata": {},
   "source": [
    "<h2 style=\"color:Orange;font-size:40px\">Websites Blogs</h2>\n",
    "<br>\n",
    "<ol style=\"font-size:25px;line-height:45px;color:#888;\">\n",
    "    <li><a href=\"https://atcold.github.io/pytorch-Deep-Learning/\">Atcold.github.io</a> - DEEP LEARNING course (15 weeks)</li>\n",
    "    <li><a href=\"http://introtodeeplearning.com/\">@MIT---IntrotoDeepLearning.com</a> - MIT 6.S191\n",
    "Introduction to Deep Learning</li>\n",
    "    <li><a href=\"https://course.fast.ai/\">Course.fast.ai</a> - Practical Deep Learning for Coders </li>\n",
    "    <li><a href=\"https://www.deeplearningbook.org/\">@MIT---DeepLearningBook.com</a> - Deep Learning (An MIT Press book) </li>\n",
    "    <li><a href=\"http://neuralnetworksanddeeplearning.com/\">neuralnetworksanddeeplearning.com</a> - an Online Book on Neural networks and Deeplearning</li>\n",
    "    <li><a href=\"https://hackr.io/data-science\">hackr.io</a> - Data-Science , Machine-Learning , Deep-Learning , Artificial-Intelligence , Tensorflow , R , Apache Spark , Hadoop</li>\n",
    "    <hr style=\"border-top:7px dotted black;background-color:#0000\">\n",
    "    <li><a href=\"https://openai.com/\">Openai.com</a> - Blog</li>\n",
    "</ol>"
   ]
  },
  {
   "cell_type": "markdown",
   "id": "543e32dc",
   "metadata": {},
   "source": [
    "<img alt=\"Image 1\" src=\"books1.png\" width=\"800\" />\n",
    "<!-- <p>src : https://theaisummer.com/deep-learning-books-2022/</p> -->\n",
    "<img alt=\"Image 2\" src=\"books2.png\" width=\"800\" />\n",
    "<!-- <p>src : https://theaisummer.com/deep-learning-books-2022/</p> -->s"
   ]
  },
  {
   "cell_type": "markdown",
   "id": "5531a60b",
   "metadata": {},
   "source": [
    "<h2 style=\"color:#0056D2;font-size:40px\">Coursera</h2>\n",
    "<br>"
   ]
  },
  {
   "cell_type": "markdown",
   "id": "83ea4599",
   "metadata": {},
   "source": []
  },
  {
   "cell_type": "code",
   "execution_count": null,
   "id": "0dd26870",
   "metadata": {},
   "outputs": [],
   "source": []
  }
 ],
 "metadata": {
  "kernelspec": {
   "display_name": "Python 3 (ipykernel)",
   "language": "python",
   "name": "python3"
  },
  "language_info": {
   "codemirror_mode": {
    "name": "ipython",
    "version": 3
   },
   "file_extension": ".py",
   "mimetype": "text/x-python",
   "name": "python",
   "nbconvert_exporter": "python",
   "pygments_lexer": "ipython3",
   "version": "3.10.4"
  }
 },
 "nbformat": 4,
 "nbformat_minor": 5
}
